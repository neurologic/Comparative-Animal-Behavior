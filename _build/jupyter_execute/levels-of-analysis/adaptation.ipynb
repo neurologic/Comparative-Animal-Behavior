{
 "cells": [
  {
   "cell_type": "markdown",
   "id": "8d495e5a",
   "metadata": {},
   "source": [
    "# Adaptation\n",
    "\n",
    "Assumption: behavior is an adaptation to changing needs and a changing environment that maximizes fitness. \n",
    "\n",
    "In evolutionary terms, fitness is defined as the population frequency of the allele underlying the trait. \n",
    "\n",
    "***Q: An individual with allele 'A' has low body weight and is constantly sick. An individual with allele 'B' has high body weight and never gets sick. Individual A has 5 offspring. Individual B has no offspring. Which allele has a higher fitness?***"
   ]
  },
  {
   "cell_type": "markdown",
   "id": "13476bd7",
   "metadata": {},
   "source": [
    "***Q: Allele A of a gene leads to territorial behavior and a higher number of mates. Allele 'B' of the same gene leads to 'sneaky' behavior with fewer mates, but more offspring than allele 'A.' Which allele has a greater fitness?***\n",
    "\n",
    "*Factors* that effect an animal's fitness.\n",
    "\n",
    "***Q: What does an animal's fitness depend on?***"
   ]
  }
 ],
 "metadata": {
  "jupytext": {
   "text_representation": {
    "extension": ".md",
    "format_name": "myst"
   }
  },
  "kernelspec": {
   "display_name": "Python 3",
   "language": "python",
   "name": "python3"
  },
  "source_map": [
   10,
   22
  ]
 },
 "nbformat": 4,
 "nbformat_minor": 5
}